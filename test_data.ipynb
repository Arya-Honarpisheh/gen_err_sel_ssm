{
 "cells": [
  {
   "cell_type": "code",
   "execution_count": 5,
   "metadata": {},
   "outputs": [],
   "source": [
    "import re\n",
    "import sys\n",
    "import numpy as np\n",
    "import matplotlib.pyplot as plt\n",
    "import torch\n",
    "from torch.utils.data import DataLoader\n",
    "from training.load_datasets import get_imdb, get_listops\n",
    "from transformers import AutoTokenizer\n",
    "from models.selective_ssm import SentimentModel   #, MultiClassModel"
   ]
  },
  {
   "cell_type": "code",
   "execution_count": 9,
   "metadata": {},
   "outputs": [
    {
     "name": "stdout",
     "output_type": "stream",
     "text": [
      "16\n",
      "Tokens: tensor([13,  8,  7,  7,  0,  4, 12,  9, 11,  5,  3, 13,  0,  0,  9,  8,  2,  4,\n",
      "        11,  2,  7,  9,  0,  1,  5, 14, 13,  7, 13, 10, 12,  7,  0,  0, 14,  8,\n",
      "         6, 12,  7, 11,  5,  6,  1,  0,  4,  9,  3,  5,  9, 14, 10,  9,  7,  0,\n",
      "         0,  0, 14, 14, 14,  0,  3, 14,  5, 14,  4,  4, 14,  9, 13,  9, 13,  2,\n",
      "         5,  5,  2,  6,  5, 14, 11,  2,  7,  1, 13,  9,  4,  9,  7,  0, 14, 14,\n",
      "         8, 14,  3, 14, 14, 10,  2,  0, 14,  0,  3, 14, 15, 15]), Label: 8.0\n",
      "Decoded: [SM 8 7 7 0 4 [MED 9 [MAX 5 3 [SM 0 0 9 8 2 4 [MAX 2 7 9 0 1 5 ] [SM 7 [SM [MIN [MED 7 0 0 ] 8 6 [MED 7 [MAX 5 6 1 0 4 9 3 5 9 ] [MIN 9 7 0 0 0 ] ] ] 0 3 ] 5 ] 4 4 ] 9 [SM 9 [SM 2 5 5 2 6 5 ] [MAX 2 7 1 [SM 9 4 9 7 0 ] ] 8 ] 3 ] ] [MIN 2 0 ] 0 3 ] <pad> <pad>\n"
     ]
    }
   ],
   "source": [
    "# --- ListOps Dataset ---\n",
    "# Read the .tsv files according to a given directory\n",
    "T = 100\n",
    "T_var = 5\n",
    "num_train = 1000\n",
    "num_valid = 0\n",
    "num_test = 1000\n",
    "balanced = False  # Balanced labels (actual sample counts are lower)\n",
    "\n",
    "def decode_token_ids(token_ids, vocab):\n",
    "    # Reverse the vocab to map from id to token\n",
    "    reverse_vocab = {v: k for k, v in vocab.items()}\n",
    "    # Index the token IDs to get the tokens\n",
    "    tokens = [reverse_vocab[token_id.item()] for token_id in token_ids]\n",
    "    # Decode the tokens\n",
    "    decoded_text = ' '.join(tokens)    \n",
    "\n",
    "    return decoded_text\n",
    "\n",
    "dataset_dir = './dataset'\n",
    "\n",
    "train_loader, test_loader, vocab = get_listops(dataset_dir, T-T_var, T+T_var, num_train, num_valid, num_test, balanced=balanced, batch_size=32)\n",
    "input_ids, labels = next(iter(train_loader))\n",
    "i = 25\n",
    "print(f\"Tokens: {input_ids[i,:]}, Label: {labels[i]}\")\n",
    "print(f\"Decoded: {decode_token_ids(input_ids[i,:], vocab)}\")\n"
   ]
  }
 ],
 "metadata": {
  "kernelspec": {
   "display_name": "sssm",
   "language": "python",
   "name": "python3"
  },
  "language_info": {
   "codemirror_mode": {
    "name": "ipython",
    "version": 3
   },
   "file_extension": ".py",
   "mimetype": "text/x-python",
   "name": "python",
   "nbconvert_exporter": "python",
   "pygments_lexer": "ipython3",
   "version": "3.10.18"
  }
 },
 "nbformat": 4,
 "nbformat_minor": 2
}
